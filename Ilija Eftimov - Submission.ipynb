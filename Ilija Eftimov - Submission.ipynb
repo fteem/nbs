{
 "cells": [
  {
   "cell_type": "markdown",
   "metadata": {},
   "source": [
    "# My Jupyter Notebook on IBM Watson Studio"
   ]
  },
  {
   "cell_type": "markdown",
   "metadata": {},
   "source": [
    "**Ilija Eftimov**\n",
    "\n",
    "Software Engineer and Data Science enthusiast."
   ]
  },
  {
   "cell_type": "markdown",
   "metadata": {},
   "source": [
    "*I am interested in Data Science because I think the future of software engineering, and computing in general, is moving in the direction of using models for statistical predictions, and deep learning models as recently shown by the latest developments in the LLM space. I am also a generally curious person, and I love finding out insights from data.*"
   ]
  },
  {
   "cell_type": "markdown",
   "metadata": {},
   "source": [
    "### The code below makes a simple addition of two integers (1 + 1)"
   ]
  },
  {
   "cell_type": "code",
   "execution_count": 1,
   "metadata": {},
   "outputs": [
    {
     "data": {
      "text/plain": [
       "2"
      ]
     },
     "execution_count": 1,
     "metadata": {},
     "output_type": "execute_result"
    }
   ],
   "source": [
    "1+1"
   ]
  },
  {
   "cell_type": "markdown",
   "metadata": {},
   "source": [
    "The instructions here said:\n",
    "\n",
    "> Cell 6 (rendered as Markdown): Using Markdown or HTML, this cell must include at least 3 of the following: horizontal rule, bulleted list, numbered list, tables, hyperlinks, images, code/syntax highlighting, blocked quotes, strikethrough.\n",
    "\n",
    "So, here's a horizontal rule:\n",
    "<hr/>\n",
    "\n",
    "And a codeblock:\n",
    "```python\n",
    "1+1 = 2\n",
    "```\n",
    "\n",
    "And a table:\n",
    "\n",
    "\n",
    "| Header 1 | Header 2 | Header 3 |\n",
    "| --- | ----------- | ----- |\n",
    "| 1.1 | 1.2 | 1.3 |\n",
    "| 2.1 | 2.2 | 2.3 |\n",
    "| 3.1 | 3.2 | 3.3 |\n"
   ]
  },
  {
   "cell_type": "code",
   "execution_count": null,
   "metadata": {},
   "outputs": [],
   "source": []
  }
 ],
 "metadata": {
  "kernelspec": {
   "display_name": "Python",
   "language": "python",
   "name": "conda-env-python-py"
  },
  "language_info": {
   "codemirror_mode": {
    "name": "ipython",
    "version": 3
   },
   "file_extension": ".py",
   "mimetype": "text/x-python",
   "name": "python",
   "nbconvert_exporter": "python",
   "pygments_lexer": "ipython3",
   "version": "3.7.12"
  }
 },
 "nbformat": 4,
 "nbformat_minor": 4
}
